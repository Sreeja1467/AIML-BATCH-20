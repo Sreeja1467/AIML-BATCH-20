{
  "nbformat": 4,
  "nbformat_minor": 0,
  "metadata": {
    "colab": {
      "provenance": [],
      "authorship_tag": "ABX9TyMTezDM2vmuteEU1ljS3Q3O",
      "include_colab_link": true
    },
    "kernelspec": {
      "name": "python3",
      "display_name": "Python 3"
    },
    "language_info": {
      "name": "python"
    }
  },
  "cells": [
    {
      "cell_type": "markdown",
      "metadata": {
        "id": "view-in-github",
        "colab_type": "text"
      },
      "source": [
        "<a href=\"https://colab.research.google.com/github/Sreeja1467/AIML-BATCH-20/blob/main/part1_assign1.ipynb\" target=\"_parent\"><img src=\"https://colab.research.google.com/assets/colab-badge.svg\" alt=\"Open In Colab\"/></a>"
      ]
    },
    {
      "cell_type": "code",
      "execution_count": 2,
      "metadata": {
        "colab": {
          "base_uri": "https://localhost:8080/"
        },
        "id": "QOTHspmwalMB",
        "outputId": "31334121-0d81-4c6c-b0e6-f1f0130befee"
      },
      "outputs": [
        {
          "output_type": "stream",
          "name": "stdout",
          "text": [
            "list= [4, 5, 6, 7]\n",
            "array= [4 5 6 7]\n"
          ]
        }
      ],
      "source": [
        "import numpy as np\n",
        "list1=[4,5,6,7]\n",
        "array1=np.array(list1)\n",
        "print(\"list=\",list1)\n",
        "print(\"array=\",array1)"
      ]
    },
    {
      "cell_type": "code",
      "source": [
        "print(\"type of list1:\",type(list1))\n",
        "print(\"type of array1:\",type(array1))\n"
      ],
      "metadata": {
        "colab": {
          "base_uri": "https://localhost:8080/"
        },
        "id": "-8PAyzG7cZim",
        "outputId": "06989620-13fa-4739-a49d-d523814a6523"
      },
      "execution_count": 3,
      "outputs": [
        {
          "output_type": "stream",
          "name": "stdout",
          "text": [
            "type of list1: <class 'list'>\n",
            "type of array1: <class 'numpy.ndarray'>\n"
          ]
        }
      ]
    }
  ]
}